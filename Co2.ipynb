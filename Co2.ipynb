{
  "nbformat": 4,
  "nbformat_minor": 0,
  "metadata": {
    "colab": {
      "name": "Co2.ipynb",
      "provenance": [],
      "authorship_tag": "ABX9TyOVf/wWGTDShagdNaxhXFhq",
      "include_colab_link": true
    },
    "kernelspec": {
      "name": "python3",
      "display_name": "Python 3"
    },
    "language_info": {
      "name": "python"
    }
  },
  "cells": [
    {
      "cell_type": "markdown",
      "metadata": {
        "id": "view-in-github",
        "colab_type": "text"
      },
      "source": [
        "<a href=\"https://colab.research.google.com/github/swathikrishnacv/python-/blob/main/Co2.ipynb\" target=\"_parent\"><img src=\"https://colab.research.google.com/assets/colab-badge.svg\" alt=\"Open In Colab\"/></a>"
      ]
    },
    {
      "cell_type": "code",
      "metadata": {
        "id": "LE767dXqHn1y",
        "colab": {
          "base_uri": "https://localhost:8080/"
        },
        "outputId": "9cd08801-a75b-4745-fd3f-9acb4a462da1"
      },
      "source": [
        "#1_program to find the factorial of a number\n",
        "n=int(input(\"enter the number\"))\n",
        "fact=1\n",
        "for i in range(1,n+1):\n",
        "  fact=fact*i\n",
        "print(fact)"
      ],
      "execution_count": null,
      "outputs": [
        {
          "output_type": "stream",
          "text": [
            "enter the number4\n",
            "24\n"
          ],
          "name": "stdout"
        }
      ]
    },
    {
      "cell_type": "code",
      "metadata": {
        "colab": {
          "base_uri": "https://localhost:8080/"
        },
        "id": "Rr7KdXHPJhXm",
        "outputId": "94d96ab3-8610-4cf4-d7f7-6405054d1dd6"
      },
      "source": [
        " \n",
        "#2_generate Fibonacci series of n terms\n",
        " n=int(input(\"enter the limit:\"))\n",
        "f1 =0\n",
        "f2=1\n",
        "count=0\n",
        "while count<n:\n",
        "   print(f1)\n",
        "   fib=f1+f2\n",
        "   f1=f2\n",
        "   f2=fib\n",
        "   count+=1"
      ],
      "execution_count": null,
      "outputs": [
        {
          "output_type": "stream",
          "text": [
            "enter the limit:6\n",
            "0\n",
            "1\n",
            "1\n",
            "2\n",
            "3\n",
            "5\n"
          ],
          "name": "stdout"
        }
      ]
    },
    {
      "cell_type": "code",
      "metadata": {
        "id": "1DQf6lH5JtF7",
        "colab": {
          "base_uri": "https://localhost:8080/"
        },
        "outputId": "af575d24-1e3c-43bc-e5f8-b5e15768e1d7"
      },
      "source": [
        "#3_find the sum of all items in alist\n",
        "l=[1,2,3,4]\n",
        "print(sum(l))"
      ],
      "execution_count": null,
      "outputs": [
        {
          "output_type": "stream",
          "text": [
            "10\n"
          ],
          "name": "stdout"
        }
      ]
    },
    {
      "cell_type": "code",
      "metadata": {
        "colab": {
          "base_uri": "https://localhost:8080/"
        },
        "id": "XZgkNCOFLNKT",
        "outputId": "f2bf4f9e-1ec4-45f8-dbb3-4cfa8bb8f09b"
      },
      "source": [
        "#4_perfect square\n",
        "import math\n",
        "start=int(input(\"enter a starting limit 4 digit number:\"))\n",
        "end=int(input(\"enter a ending limit 4 digit number:\"))\n",
        "perfect=[]\n",
        "for i in range(start,end+1):\n",
        "  flag=0\n",
        "  num=i\n",
        "  while num>0:\n",
        "    digit=num%10\n",
        "    if digit not in [0,2,4,6,8]:\n",
        "      flag=1\n",
        "      break\n",
        "    num=int(num/10)\n",
        "  if flag==0 and int(math.sqrt(i)+0.5)**2==i:\n",
        "     perfect.append(i)\n",
        "print(\"The list of perfact square number are:\",perfect)"
      ],
      "execution_count": null,
      "outputs": [
        {
          "output_type": "stream",
          "text": [
            "enter a starting limit 4 digit number:2145\n",
            "enter a ending limit 4 digit number:8947\n",
            "The list of perfact square number are: [4624, 6084, 6400, 8464]\n"
          ],
          "name": "stdout"
        }
      ]
    },
    {
      "cell_type": "code",
      "metadata": {
        "id": "BgPHPUVXKJVk",
        "colab": {
          "base_uri": "https://localhost:8080/"
        },
        "outputId": "d75aac66-8898-4240-f4dc-3a8f28425921"
      },
      "source": [
        "\n",
        "\n",
        "#5_display the pyramid with step number accepted  from user\n",
        "n=int(input(\"enter the number of rows:\"))\n",
        "for i in range(1,n+1):\n",
        "  for j in range(1,i+1):\n",
        "    print(i*j,end=' ')\n",
        "  print()"
      ],
      "execution_count": null,
      "outputs": [
        {
          "output_type": "stream",
          "text": [
            "enter the number of rows:4\n",
            "1 \n",
            "2 4 \n",
            "3 6 9 \n",
            "4 8 12 16 \n"
          ],
          "name": "stdout"
        }
      ]
    },
    {
      "cell_type": "code",
      "metadata": {
        "id": "pJWjNDxPJJY1",
        "colab": {
          "base_uri": "https://localhost:8080/"
        },
        "outputId": "4871dddf-716e-468b-8c9f-8cd4c614e65c"
      },
      "source": [
        " \n",
        "#6_count the number of characters in a string\n",
        "string=input(\"enter a string:\")\n",
        "count=0\n",
        "for i in range(len(string)):\n",
        "  if(string[i]!=' '):\n",
        "    count=count+1\n",
        "print(\"the number of characters in the string is:\",count)"
      ],
      "execution_count": null,
      "outputs": [
        {
          "output_type": "stream",
          "text": [
            "enter a string:Good morning\n",
            "the number of characters in the string is: 11\n"
          ],
          "name": "stdout"
        }
      ]
    },
    {
      "cell_type": "code",
      "metadata": {
        "id": "LFZimGp0LstE",
        "colab": {
          "base_uri": "https://localhost:8080/"
        },
        "outputId": "4ff046d7-d002-4ec4-eeae-02a73bedd88f"
      },
      "source": [
        " #7_add ing at the end of a given string. if it already ends with'ing',then add 'ly'\n",
        "s=input(\"enter a string:\")\n",
        "if(len(s)>2):\n",
        "  if(s[-3:]=='ing'):\n",
        "   s=s+'ly'\n",
        "else:\n",
        "  s=s+'ing'\n",
        "print(s)"
      ],
      "execution_count": null,
      "outputs": [
        {
          "output_type": "stream",
          "text": [
            "enter a string:Good morning\n",
            "Good morningly\n"
          ],
          "name": "stdout"
        }
      ]
    },
    {
      "cell_type": "code",
      "metadata": {
        "colab": {
          "base_uri": "https://localhost:8080/"
        },
        "id": "QmYwuFYNOBch",
        "outputId": "ce397794-1b81-4b6e-9cab-57cdb0d7c159"
      },
      "source": [
        "#8_Accept a list of words and return length of largest word\n",
        "n=int(input(\"enter the no of words:\"))\n",
        "list=[]\n",
        "for i in range(n):\n",
        "  x=input(\"enter the word:\")\n",
        "  list.append(x)\n",
        "print(list)\n",
        "max=len(list[0])\n",
        "temp=list[0]\n",
        "for i in list:\n",
        "  if (len(i)>max):\n",
        "    max=len(i)\n",
        "    temp=i\n",
        "print(\"the word having biggest length is\",temp,\"and its length is:\",max)"
      ],
      "execution_count": null,
      "outputs": [
        {
          "output_type": "stream",
          "text": [
            "enter the no of words:3\n",
            "enter the word:Apple\n",
            "enter the word:Banana\n",
            "enter the word:Pineapple\n",
            "['Apple', 'Banana', 'Pineapple']\n",
            "the word having biggest length is Pineapple and its length is: 9\n"
          ],
          "name": "stdout"
        }
      ]
    },
    {
      "cell_type": "code",
      "metadata": {
        "id": "Q1ty6ZY8MRGg",
        "colab": {
          "base_uri": "https://localhost:8080/"
        },
        "outputId": "55c93055-0301-4a2e-a0e6-16d8ea6cccee"
      },
      "source": [
        " \n",
        "#9_construct the pattern\n",
        "n=int(input(\"enter the number of rows:\"))\n",
        "for i in range(1,n):\n",
        "   for j in range(i):\n",
        "    print(\"*\",end=' ')\n",
        "   print()\n",
        "for i in range(n,0,-1):\n",
        "   for j in range(i):\n",
        "    print(\"*\",end=' ')\n",
        "   print()"
      ],
      "execution_count": null,
      "outputs": [
        {
          "output_type": "stream",
          "text": [
            "enter the number of rows:4\n",
            "* \n",
            "* * \n",
            "* * * \n",
            "* * * * \n",
            "* * * \n",
            "* * \n",
            "* \n"
          ],
          "name": "stdout"
        }
      ]
    },
    {
      "cell_type": "code",
      "metadata": {
        "colab": {
          "base_uri": "https://localhost:8080/"
        },
        "id": "Aa7F7cL0N-Wx",
        "outputId": "a2274df2-8c65-46d0-8903-075fe5744b91"
      },
      "source": [
        " \n",
        "#10_generate all factors of a number\n",
        " n=int(input(\"enter the number:\"))\n",
        "print(\"the factors of\",n,\"are\")\n",
        "for i in range(1,n+1):\n",
        "     if n%i==0:\n",
        "      print(i)"
      ],
      "execution_count": null,
      "outputs": [
        {
          "output_type": "stream",
          "text": [
            "enter the number:6\n",
            "the factors of 6 are\n",
            "1\n",
            "2\n",
            "3\n",
            "6\n"
          ],
          "name": "stdout"
        }
      ]
    },
    {
      "cell_type": "code",
      "metadata": {
        "colab": {
          "base_uri": "https://localhost:8080/"
        },
        "id": "eZoFFdg4OSpY",
        "outputId": "df6f4adf-611b-4e1f-fa7b-8e9237068ee0"
      },
      "source": [
        " \n",
        "#11_write lambda functions to find area of square,rectangle,triangle\n",
        "square=lambda a:a*a\n",
        "print(\"area of square is\",square(4))\n",
        "rect=lambda a,b:a*b\n",
        "print(\"area of rectangle is\",rect(3,4))\n",
        "tri=lambda b,h:0.5*b*h\n",
        "print(\"area of triangle is\",tri(4,6))"
      ],
      "execution_count": null,
      "outputs": [
        {
          "output_type": "stream",
          "text": [
            "area of square is 16\n",
            "area of rectangle is 12\n",
            "area of triangle is 12.0\n"
          ],
          "name": "stdout"
        }
      ]
    }
  ]
}
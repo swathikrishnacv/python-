{
  "nbformat": 4,
  "nbformat_minor": 0,
  "metadata": {
    "colab": {
      "name": "Co1.ipynb",
      "provenance": [],
      "collapsed_sections": [],
      "authorship_tag": "ABX9TyNUVBr02N9Lpq45evw2fDHv",
      "include_colab_link": true
    },
    "kernelspec": {
      "display_name": "Python 3",
      "name": "python3"
    }
  },
  "cells": [
    {
      "cell_type": "markdown",
      "metadata": {
        "id": "view-in-github",
        "colab_type": "text"
      },
      "source": [
        "<a href=\"https://colab.research.google.com/github/swathikrishnacv/python-/blob/main/Co1.ipynb\" target=\"_parent\"><img src=\"https://colab.research.google.com/assets/colab-badge.svg\" alt=\"Open In Colab\"/></a>"
      ]
    },
    {
      "cell_type": "code",
      "metadata": {
        "colab": {
          "base_uri": "https://localhost:8080/"
        },
        "id": "XOch1JXsso9t",
        "outputId": "fd5e0a44-806f-4204-fe78-857fe9e22287"
      },
      "source": [
        " #2_display future leap years from current year to a final year entered by user \n",
        " \n",
        "x=int(input(\"enter the current year:\"))\n",
        "y=int(input(\"enter the last year\"))\n",
        "for i in range(x,y+1):\n",
        "  if i%4==0 and i%100!=0 or i%400==0:\n",
        "    print(i)\n",
        "i=i+1"
      ],
      "execution_count": null,
      "outputs": [
        {
          "output_type": "stream",
          "text": [
            "enter the current year:2021\n",
            "enter the last year2040\n",
            "2024\n",
            "2028\n",
            "2032\n",
            "2036\n",
            "2040\n"
          ],
          "name": "stdout"
        }
      ]
    },
    {
      "cell_type": "code",
      "metadata": {
        "colab": {
          "base_uri": "https://localhost:8080/"
        },
        "id": "KAGqEFG1tUWH",
        "outputId": "9900d953-cf88-4ee2-d623-cca85343c523"
      },
      "source": [
        " #3a_positive list of numbers from a given list of integers\n",
        "list=[1,-3,0,8,2,3,-4]\n",
        "list=[x for x in list if x>0]\n",
        "print(list)"
      ],
      "execution_count": null,
      "outputs": [
        {
          "output_type": "stream",
          "text": [
            "[1, 8, 2, 3]\n"
          ],
          "name": "stdout"
        }
      ]
    },
    {
      "cell_type": "code",
      "metadata": {
        "colab": {
          "base_uri": "https://localhost:8080/"
        },
        "id": "xwEd2xx7tds3",
        "outputId": "b4d8d70b-06db-43aa-9b83-07995f3aedc8"
      },
      "source": [
        " #3b_square of n numbers\n",
        "N=int(input(\"enter limit:\"))\n",
        "list=[]\n",
        "for x in range(N):\n",
        "  X=int(input(\"enter nos\"))\n",
        "  list.append(X)\n",
        "print(list)\n",
        "square=[X**2 for X in list]\n",
        "print(square)"
      ],
      "execution_count": null,
      "outputs": [
        {
          "output_type": "stream",
          "text": [
            "enter limit:4\n",
            "enter nos1\n",
            "enter nos2\n",
            "enter nos3\n",
            "enter nos4\n",
            "[1, 2, 3, 4]\n",
            "[1, 4, 9, 16]\n"
          ],
          "name": "stdout"
        }
      ]
    },
    {
      "cell_type": "code",
      "metadata": {
        "colab": {
          "base_uri": "https://localhost:8080/"
        },
        "id": "qO6NPl_mtviu",
        "outputId": "551934a7-757e-4cb4-b496-96f2e0066c92"
      },
      "source": [
        " #3c_vowel selected from a given word\n",
        "word=\"chair\"\n",
        "vowels=\"aeiou\"\n",
        "list=[x for x in word if x in vowels]\n",
        "print(list)"
      ],
      "execution_count": null,
      "outputs": [
        {
          "output_type": "stream",
          "text": [
            "['a', 'i']\n"
          ],
          "name": "stdout"
        }
      ]
    },
    {
      "cell_type": "code",
      "metadata": {
        "colab": {
          "base_uri": "https://localhost:8080/"
        },
        "id": "dR5bG5RJuBCL",
        "outputId": "f6acb7e5-3df0-4c93-ad33-1ad16ac899cb"
      },
      "source": [
        "#3d_ordinal value of each element of a word\n",
        "word=\"chair\"\n",
        "list=[ord(x) for x in word]\n",
        "print(list)"
      ],
      "execution_count": null,
      "outputs": [
        {
          "output_type": "stream",
          "text": [
            "[99, 104, 97, 105, 114]\n"
          ],
          "name": "stdout"
        }
      ]
    },
    {
      "cell_type": "code",
      "metadata": {
        "colab": {
          "base_uri": "https://localhost:8080/"
        },
        "id": "0QoFXK7QuM5O",
        "outputId": "b23c727a-1585-4c68-bea5-69225dfdd01c"
      },
      "source": [
        "#4_count occurrence of each word in aline of text\n",
        "text=\"java language is a simple and powerfull programming language \"\n",
        "for i in text.strip().split():\n",
        "    print(\"Number of occurence of word \",\"\\\"\",i,\"\\\"\",\" is :\",text.strip().split().count(i))"
      ],
      "execution_count": null,
      "outputs": [
        {
          "output_type": "stream",
          "text": [
            "Number of occurence of word  \" java \"  is : 1\n",
            "Number of occurence of word  \" language \"  is : 2\n",
            "Number of occurence of word  \" is \"  is : 1\n",
            "Number of occurence of word  \" a \"  is : 1\n",
            "Number of occurence of word  \" simple \"  is : 1\n",
            "Number of occurence of word  \" and \"  is : 1\n",
            "Number of occurence of word  \" powerfull \"  is : 1\n",
            "Number of occurence of word  \" programming \"  is : 1\n",
            "Number of occurence of word  \" language \"  is : 2\n"
          ],
          "name": "stdout"
        }
      ]
    },
    {
      "cell_type": "code",
      "metadata": {
        "colab": {
          "base_uri": "https://localhost:8080/"
        },
        "id": "YUrAmddauRfh",
        "outputId": "889c2523-e42e-4f17-ec78-35e132242a6a"
      },
      "source": [
        "#5_prompt the user for alist of integers.for all values greater than 100 store 'over' insted \n",
        "list=[]\n",
        "for i in range(6):\n",
        "  num=int(input(\"enter the number:\"))\n",
        "  if num<100:\n",
        "   list.append(num)\n",
        "  else:\n",
        "   list.append(\"over\")\n",
        "print(list)"
      ],
      "execution_count": null,
      "outputs": [
        {
          "output_type": "stream",
          "text": [
            "enter the number:5\n",
            "enter the number:34\n",
            "enter the number:567\n",
            "enter the number:123\n",
            "enter the number:35\n",
            "enter the number:68\n",
            "[5, 34, 'over', 'over', 35, 68]\n"
          ],
          "name": "stdout"
        }
      ]
    },
    {
      "cell_type": "code",
      "metadata": {
        "colab": {
          "base_uri": "https://localhost:8080/"
        },
        "id": "UpUFEGT9udtS",
        "outputId": "127026fc-f8f1-4ed4-dd56-9da4c722a562"
      },
      "source": [
        " #6_store a list of first names.count the occurrence of 'a' within a list\n",
        "l=input(\"enter the names:\")\n",
        "word=l.split()\n",
        "print(word)\n",
        "count=0\n",
        "for i in l:\n",
        "  if i==\"a\":\n",
        "   count+=1\n",
        "print(\"the occurrence of a is:\",count)"
      ],
      "execution_count": null,
      "outputs": [
        {
          "output_type": "stream",
          "text": [
            "enter the names:Anamika anu\n",
            "['Anamika', 'anu']\n",
            "the occurrence of a is: 3\n"
          ],
          "name": "stdout"
        }
      ]
    },
    {
      "cell_type": "code",
      "metadata": {
        "colab": {
          "base_uri": "https://localhost:8080/"
        },
        "id": "ZFyH2DR1u9io",
        "outputId": "4e810906-e859-48f0-cfb6-d6473d229ebe"
      },
      "source": [
        "#7_compare two lists\n",
        "l1=[30,40,20,10,50]\n",
        "l2=[30,40,60,15,32]\n",
        "print(len(l1))\n",
        "print(len(l2))\n",
        "total=sum(l1)\n",
        "print(\"sum of list1\",total)\n",
        "total=sum(l2)\n",
        "print(\"sum of list2\",total)\n",
        "l3=[]\n",
        "for n in l1:\n",
        "  if n in l2:\n",
        "    if n not in l3:\n",
        "      l3.append(n)\n",
        "print(l3)"
      ],
      "execution_count": null,
      "outputs": [
        {
          "output_type": "stream",
          "text": [
            "5\n",
            "5\n",
            "sum of list1 150\n",
            "sum of list2 177\n",
            "[30, 40]\n"
          ],
          "name": "stdout"
        }
      ]
    },
    {
      "cell_type": "code",
      "metadata": {
        "colab": {
          "base_uri": "https://localhost:8080/"
        },
        "id": "6avQ74GnuyyP",
        "outputId": "92d1d595-c7cc-465d-97d2-8120e3224216"
      },
      "source": [
        "#8_get a string from an input string where all occurrence of first character replaced with $,except first character\n",
        "a=input(\"enter a string:\")\n",
        "b=a[0]\n",
        "s=a[1:len(a)]\n",
        "for i in range(len(s)):\n",
        "  if s[i]==a[0]:\n",
        "     b=b+\"$\"\n",
        "  else:\n",
        "    b=b+s[i]\n",
        "print(b)"
      ],
      "execution_count": null,
      "outputs": [
        {
          "output_type": "stream",
          "text": [
            "enter a string:onion\n",
            "oni$n\n"
          ],
          "name": "stdout"
        }
      ]
    },
    {
      "cell_type": "code",
      "metadata": {
        "colab": {
          "base_uri": "https://localhost:8080/"
        },
        "id": "WdynGCLQvHpL",
        "outputId": "59caf5f1-8ef7-47d4-a68c-eb2d8aec3b36"
      },
      "source": [
        "#9_create a string from given string where first and last characters exchanged\n",
        "str=input(\"enter a string:\")\n",
        "newstr=str[-1:]+str[1:-1]+str[:1]\n",
        "print(newstr)"
      ],
      "execution_count": null,
      "outputs": [
        {
          "output_type": "stream",
          "text": [
            "enter a string:python\n",
            "nythop\n"
          ],
          "name": "stdout"
        }
      ]
    },
    {
      "cell_type": "code",
      "metadata": {
        "colab": {
          "base_uri": "https://localhost:8080/"
        },
        "id": "48fCQubGSR-U",
        "outputId": "e2899755-b0bb-4faa-a66e-1463f61bbd8e"
      },
      "source": [
        " #11_find biggest of three numbers\n",
        "x=int(input(\"enter first num:\"))\n",
        "y=int(input(\"enter secnd num:\"))\n",
        "z=int(input(\"enter third num:\"))\n",
        "if x>y and x>z:\n",
        "  largest=x\n",
        "elif y>x and y>z:\n",
        "  largest=y\n",
        "else:\n",
        "  largest=z\n",
        "print(\" largest number is\",largest)"
      ],
      "execution_count": null,
      "outputs": [
        {
          "output_type": "stream",
          "text": [
            "enter first num:6\n",
            "enter secnd num:7\n",
            "enter third num:8\n",
            " largest number is 8\n"
          ],
          "name": "stdout"
        }
      ]
    },
    {
      "cell_type": "code",
      "metadata": {
        "colab": {
          "base_uri": "https://localhost:8080/"
        },
        "id": "k3JvDS-RveHr",
        "outputId": "b304388c-fecc-4d7d-a670-ddf5aa3022ad"
      },
      "source": [
        "#12_accept a file name from user and find area of circle\n",
        "file=input(\"enter the file name with extension:\")\n",
        "print(\"extension of the file is:\",file.split(\".\")[-1])"
      ],
      "execution_count": null,
      "outputs": [
        {
          "output_type": "stream",
          "text": [
            "enter the file name with extension:S.jpg\n",
            "extension of the file is: jpg\n"
          ],
          "name": "stdout"
        }
      ]
    },
    {
      "cell_type": "code",
      "metadata": {
        "colab": {
          "base_uri": "https://localhost:8080/"
        },
        "id": "cFaEFPptRgcV",
        "outputId": "dfe80cce-9afe-49c3-f4a3-cb3817bce797"
      },
      "source": [
        "#10_accept radius from user and find area of circle\n",
        "rad=int(input(\"enter the radius:\"))\n",
        "print(\" area of circle with radius \"+str(rad)+\"is:\"+str(3.14*rad*rad))"
      ],
      "execution_count": null,
      "outputs": [
        {
          "output_type": "stream",
          "text": [
            "enter the radius:4\n",
            " area of circle with radius 4is:50.24\n"
          ],
          "name": "stdout"
        }
      ]
    },
    {
      "cell_type": "code",
      "metadata": {
        "colab": {
          "base_uri": "https://localhost:8080/"
        },
        "id": "FZpZPIKIvjkX",
        "outputId": "0026563e-de0b-47ba-f95c-6506d452b9a6"
      },
      "source": [
        "#13_ create a list of colors from comma separated color names entered by user .display first and last colors\n",
        "n=int(input(\"enter the number of colors:\"))\n",
        "list=[]\n",
        "for i in range(n):\n",
        "  a=input(\"enter the color:\")\n",
        "  list.append(a)\n",
        "print(list)\n",
        "print(\"the first color is:\",list[0])\n",
        "print(\"the last color is:\",list[-1])"
      ],
      "execution_count": null,
      "outputs": [
        {
          "output_type": "stream",
          "text": [
            "enter the number of colors:4\n",
            "enter the color:Green\n",
            "enter the color:Yellow\n",
            "enter the color:Blue\n",
            "enter the color:Red\n",
            "['Green', 'Yellow', 'Blue', 'Red']\n",
            "the first color is: Green\n",
            "the last color is: Red\n"
          ],
          "name": "stdout"
        }
      ]
    },
    {
      "cell_type": "code",
      "metadata": {
        "colab": {
          "base_uri": "https://localhost:8080/"
        },
        "id": "8pIOMOSCvwOc",
        "outputId": "5c468579-5105-4bd5-d3fd-dfb3fee9a196"
      },
      "source": [
        " \n",
        "#14_accept an integer n and compute n+nn+nnn\n",
        "a=int(input(\"enter a number\"))\n",
        "a1=a*11\n",
        "a2=a*111\n",
        "print(a+a1+a2)"
      ],
      "execution_count": null,
      "outputs": [
        {
          "output_type": "stream",
          "text": [
            "enter a number3\n",
            "369\n"
          ],
          "name": "stdout"
        }
      ]
    },
    {
      "cell_type": "code",
      "metadata": {
        "colab": {
          "base_uri": "https://localhost:8080/"
        },
        "id": "giE441GRwn-3",
        "outputId": "bbd8a871-3067-4613-fc08-c0a2e434cc35"
      },
      "source": [
        "#15_print out all colors from color list 1 not contained in color list2\n",
        "col1=['red','blue','yellow','violet']\n",
        "col2=['green','blue']\n",
        "print(col1)\n",
        "print(col2)\n",
        "for i in range(len(col1)):\n",
        "  if col1[i] not in col2:\n",
        "     print(\"the color is:\",col1[i])"
      ],
      "execution_count": null,
      "outputs": [
        {
          "output_type": "stream",
          "text": [
            "['red', 'blue', 'yellow', 'violet']\n",
            "['green', 'blue']\n",
            "the color is: red\n",
            "the color is: yellow\n",
            "the color is: violet\n"
          ],
          "name": "stdout"
        }
      ]
    },
    {
      "cell_type": "code",
      "metadata": {
        "colab": {
          "base_uri": "https://localhost:8080/"
        },
        "id": "rexjcZlOv5VF",
        "outputId": "a4c2090d-b4e4-44ec-ef6d-18ca6bcebd25"
      },
      "source": [
        "#16_create a single string seperated with space from two strings by swapping the character at position 1\n",
        "a=input(\"enter first string:\")\n",
        "b=input(\"enter second string:\")\n",
        "s1=b[0]+a[1:]\n",
        "s2=a[0]+b[1:]\n",
        "print(\"the swapped string is:\",s1+'',s2)"
      ],
      "execution_count": null,
      "outputs": [
        {
          "output_type": "stream",
          "text": [
            "enter first string:Ann\n",
            "enter second string:Marry\n",
            "the swapped string is: Mnn Aarry\n"
          ],
          "name": "stdout"
        }
      ]
    },
    {
      "cell_type": "code",
      "metadata": {
        "colab": {
          "base_uri": "https://localhost:8080/"
        },
        "id": "bz-KGG5d-IKL",
        "outputId": "f0b23b1c-47c2-48c9-b308-c47ad7bd8142"
      },
      "source": [
        "#18_merge two dictionaries\n",
        "dict1={\"s\":5,\"f\":6}\n",
        "dict2={\"g\":7,\"h\":2}\n",
        "dict1.update(dict2)\n",
        "print(dict1)"
      ],
      "execution_count": null,
      "outputs": [
        {
          "output_type": "stream",
          "text": [
            "{'s': 5, 'f': 6, 'g': 7, 'h': 2}\n"
          ],
          "name": "stdout"
        }
      ]
    },
    {
      "cell_type": "code",
      "metadata": {
        "colab": {
          "base_uri": "https://localhost:8080/"
        },
        "id": "TNIASeEAwHgn",
        "outputId": "b7fa9a12-2029-4d17-bb5c-4091c61b5caf"
      },
      "source": [
        "#19_find gcd of two numbers\n",
        "a=int(input(\"enter the first number:\"))\n",
        "b=int(input(\"enter the second number:\"))\n",
        "while b!=0:\n",
        " gcd=b\n",
        " b=a%b\n",
        " a=gcd\n",
        "print(gcd)"
      ],
      "execution_count": null,
      "outputs": [
        {
          "output_type": "stream",
          "text": [
            "enter the first number:32\n",
            "enter the second number:24\n",
            "8\n"
          ],
          "name": "stdout"
        }
      ]
    },
    {
      "cell_type": "code",
      "metadata": {
        "id": "GUMoslbiwRkt",
        "colab": {
          "base_uri": "https://localhost:8080/"
        },
        "outputId": "34903568-a624-401c-c717-79974d6613f9"
      },
      "source": [
        "#20_from a list of integers,create a list removing even numbers\n",
        "list=[1,-4,0,-3,6]\n",
        "newlist=[x for x in list if x%2!=0]\n",
        "print(newlist)"
      ],
      "execution_count": null,
      "outputs": [
        {
          "output_type": "stream",
          "text": [
            "[1, -3]\n"
          ],
          "name": "stdout"
        }
      ]
    }
  ]
}